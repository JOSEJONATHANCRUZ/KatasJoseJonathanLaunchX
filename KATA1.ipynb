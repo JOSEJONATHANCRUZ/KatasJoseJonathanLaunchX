{
  "cells": [
    {
      "cell_type": "code",
      "execution_count": 4,
      "metadata": {},
      "outputs": [
        {
          "name": "stdout",
          "output_type": "stream",
          "text": [
            "La fecha de hoy es: 2022-02-18\n"
          ]
        }
      ],
      "source": [
        "from datetime import date\n",
        "\n",
        "print(\"La fecha de hoy es: \" + str(date.today()))"
      ]
    },
    {
      "cell_type": "code",
      "execution_count": 3,
      "metadata": {},
      "outputs": [
        {
          "name": "stdout",
          "output_type": "stream",
          "text": [
            "11 parsec, es igual a 35.877159999999996 años luz\n"
          ]
        }
      ],
      "source": [
        "parsec = 11\n",
        "lightyears = 3.26156 * parsec\n",
        "\n",
        "print(str(parsec) + \" parsec, es igual a \" + str(lightyears) + \" años luz\")"
      ]
    }
  ],
  "metadata": {
    "interpreter": {
      "hash": "1874945a695e7d9806913415b1328ad3ab821a6e7947f1c461b2ddd18463e2e0"
    },
    "kernelspec": {
      "display_name": "Python 3.10.2 64-bit",
      "language": "python",
      "name": "python3"
    },
    "language_info": {
      "codemirror_mode": {
        "name": "ipython",
        "version": 3
      },
      "file_extension": ".py",
      "mimetype": "text/x-python",
      "name": "python",
      "nbconvert_exporter": "python",
      "pygments_lexer": "ipython3",
      "version": "3.10.2"
    },
    "orig_nbformat": 4
  },
  "nbformat": 4,
  "nbformat_minor": 2
}
